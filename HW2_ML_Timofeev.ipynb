{
  "cells": [
    {
      "cell_type": "markdown",
      "metadata": {
        "id": "PgVgR-uRebSh"
      },
      "source": [
        "# Домашнее задание №2\n",
        "\n",
        "**"
      ]
    },
    {
      "cell_type": "markdown",
      "metadata": {
        "id": "StrZFrLSebSi"
      },
      "source": [
        "## Часть 1. ML workflow (**всего 5 баллов**)"
      ]
    },
    {
      "cell_type": "code",
      "execution_count": 2,
      "metadata": {
        "id": "yTP1HinfebSi"
      },
      "outputs": [],
      "source": [
        "import numpy as np\n",
        "import pandas as pd\n",
        "from sklearn.model_selection import train_test_split, cross_val_score, GridSearchCV\n",
        "\n",
        "from sklearn.linear_model import LinearRegression\n",
        "from sklearn.tree import DecisionTreeRegressor\n",
        "\n",
        "from sklearn.metrics import mean_squared_error, r2_score\n",
        "\n",
        "from sklearn.preprocessing import PolynomialFeatures\n",
        "from sklearn.pipeline import Pipeline\n",
        "\n",
        "from itertools import product"
      ]
    },
    {
      "cell_type": "markdown",
      "metadata": {
        "id": "PNo6bhLHebSj"
      },
      "source": [
        "### Загрузим данные для работы."
      ]
    },
    {
      "cell_type": "code",
      "execution_count": 27,
      "metadata": {
        "colab": {
          "base_uri": "https://localhost:8080/",
          "height": 224
        },
        "id": "ifbNd5B3ebSj",
        "outputId": "5a1116eb-1a01-444d-8f02-a770bb900e87"
      },
      "outputs": [
        {
          "output_type": "execute_result",
          "data": {
            "text/plain": [
              "   fixed acidity  volatile acidity  citric acid  residual sugar  chlorides  \\\n",
              "0            7.4              0.70         0.00             1.9      0.076   \n",
              "1            7.8              0.88         0.00             2.6      0.098   \n",
              "2            7.8              0.76         0.04             2.3      0.092   \n",
              "3           11.2              0.28         0.56             1.9      0.075   \n",
              "4            7.4              0.70         0.00             1.9      0.076   \n",
              "\n",
              "   free sulfur dioxide  total sulfur dioxide  density    pH  sulphates  \\\n",
              "0                 11.0                  34.0   0.9978  3.51       0.56   \n",
              "1                 25.0                  67.0   0.9968  3.20       0.68   \n",
              "2                 15.0                  54.0   0.9970  3.26       0.65   \n",
              "3                 17.0                  60.0   0.9980  3.16       0.58   \n",
              "4                 11.0                  34.0   0.9978  3.51       0.56   \n",
              "\n",
              "   alcohol  quality  \n",
              "0      9.4        5  \n",
              "1      9.8        5  \n",
              "2      9.8        5  \n",
              "3      9.8        6  \n",
              "4      9.4        5  "
            ],
            "text/html": [
              "\n",
              "  <div id=\"df-914cb349-cdf7-45ab-b2e6-43a9e89409fb\" class=\"colab-df-container\">\n",
              "    <div>\n",
              "<style scoped>\n",
              "    .dataframe tbody tr th:only-of-type {\n",
              "        vertical-align: middle;\n",
              "    }\n",
              "\n",
              "    .dataframe tbody tr th {\n",
              "        vertical-align: top;\n",
              "    }\n",
              "\n",
              "    .dataframe thead th {\n",
              "        text-align: right;\n",
              "    }\n",
              "</style>\n",
              "<table border=\"1\" class=\"dataframe\">\n",
              "  <thead>\n",
              "    <tr style=\"text-align: right;\">\n",
              "      <th></th>\n",
              "      <th>fixed acidity</th>\n",
              "      <th>volatile acidity</th>\n",
              "      <th>citric acid</th>\n",
              "      <th>residual sugar</th>\n",
              "      <th>chlorides</th>\n",
              "      <th>free sulfur dioxide</th>\n",
              "      <th>total sulfur dioxide</th>\n",
              "      <th>density</th>\n",
              "      <th>pH</th>\n",
              "      <th>sulphates</th>\n",
              "      <th>alcohol</th>\n",
              "      <th>quality</th>\n",
              "    </tr>\n",
              "  </thead>\n",
              "  <tbody>\n",
              "    <tr>\n",
              "      <th>0</th>\n",
              "      <td>7.4</td>\n",
              "      <td>0.70</td>\n",
              "      <td>0.00</td>\n",
              "      <td>1.9</td>\n",
              "      <td>0.076</td>\n",
              "      <td>11.0</td>\n",
              "      <td>34.0</td>\n",
              "      <td>0.9978</td>\n",
              "      <td>3.51</td>\n",
              "      <td>0.56</td>\n",
              "      <td>9.4</td>\n",
              "      <td>5</td>\n",
              "    </tr>\n",
              "    <tr>\n",
              "      <th>1</th>\n",
              "      <td>7.8</td>\n",
              "      <td>0.88</td>\n",
              "      <td>0.00</td>\n",
              "      <td>2.6</td>\n",
              "      <td>0.098</td>\n",
              "      <td>25.0</td>\n",
              "      <td>67.0</td>\n",
              "      <td>0.9968</td>\n",
              "      <td>3.20</td>\n",
              "      <td>0.68</td>\n",
              "      <td>9.8</td>\n",
              "      <td>5</td>\n",
              "    </tr>\n",
              "    <tr>\n",
              "      <th>2</th>\n",
              "      <td>7.8</td>\n",
              "      <td>0.76</td>\n",
              "      <td>0.04</td>\n",
              "      <td>2.3</td>\n",
              "      <td>0.092</td>\n",
              "      <td>15.0</td>\n",
              "      <td>54.0</td>\n",
              "      <td>0.9970</td>\n",
              "      <td>3.26</td>\n",
              "      <td>0.65</td>\n",
              "      <td>9.8</td>\n",
              "      <td>5</td>\n",
              "    </tr>\n",
              "    <tr>\n",
              "      <th>3</th>\n",
              "      <td>11.2</td>\n",
              "      <td>0.28</td>\n",
              "      <td>0.56</td>\n",
              "      <td>1.9</td>\n",
              "      <td>0.075</td>\n",
              "      <td>17.0</td>\n",
              "      <td>60.0</td>\n",
              "      <td>0.9980</td>\n",
              "      <td>3.16</td>\n",
              "      <td>0.58</td>\n",
              "      <td>9.8</td>\n",
              "      <td>6</td>\n",
              "    </tr>\n",
              "    <tr>\n",
              "      <th>4</th>\n",
              "      <td>7.4</td>\n",
              "      <td>0.70</td>\n",
              "      <td>0.00</td>\n",
              "      <td>1.9</td>\n",
              "      <td>0.076</td>\n",
              "      <td>11.0</td>\n",
              "      <td>34.0</td>\n",
              "      <td>0.9978</td>\n",
              "      <td>3.51</td>\n",
              "      <td>0.56</td>\n",
              "      <td>9.4</td>\n",
              "      <td>5</td>\n",
              "    </tr>\n",
              "  </tbody>\n",
              "</table>\n",
              "</div>\n",
              "    <div class=\"colab-df-buttons\">\n",
              "\n",
              "  <div class=\"colab-df-container\">\n",
              "    <button class=\"colab-df-convert\" onclick=\"convertToInteractive('df-914cb349-cdf7-45ab-b2e6-43a9e89409fb')\"\n",
              "            title=\"Convert this dataframe to an interactive table.\"\n",
              "            style=\"display:none;\">\n",
              "\n",
              "  <svg xmlns=\"http://www.w3.org/2000/svg\" height=\"24px\" viewBox=\"0 -960 960 960\">\n",
              "    <path d=\"M120-120v-720h720v720H120Zm60-500h600v-160H180v160Zm220 220h160v-160H400v160Zm0 220h160v-160H400v160ZM180-400h160v-160H180v160Zm440 0h160v-160H620v160ZM180-180h160v-160H180v160Zm440 0h160v-160H620v160Z\"/>\n",
              "  </svg>\n",
              "    </button>\n",
              "\n",
              "  <style>\n",
              "    .colab-df-container {\n",
              "      display:flex;\n",
              "      gap: 12px;\n",
              "    }\n",
              "\n",
              "    .colab-df-convert {\n",
              "      background-color: #E8F0FE;\n",
              "      border: none;\n",
              "      border-radius: 50%;\n",
              "      cursor: pointer;\n",
              "      display: none;\n",
              "      fill: #1967D2;\n",
              "      height: 32px;\n",
              "      padding: 0 0 0 0;\n",
              "      width: 32px;\n",
              "    }\n",
              "\n",
              "    .colab-df-convert:hover {\n",
              "      background-color: #E2EBFA;\n",
              "      box-shadow: 0px 1px 2px rgba(60, 64, 67, 0.3), 0px 1px 3px 1px rgba(60, 64, 67, 0.15);\n",
              "      fill: #174EA6;\n",
              "    }\n",
              "\n",
              "    .colab-df-buttons div {\n",
              "      margin-bottom: 4px;\n",
              "    }\n",
              "\n",
              "    [theme=dark] .colab-df-convert {\n",
              "      background-color: #3B4455;\n",
              "      fill: #D2E3FC;\n",
              "    }\n",
              "\n",
              "    [theme=dark] .colab-df-convert:hover {\n",
              "      background-color: #434B5C;\n",
              "      box-shadow: 0px 1px 3px 1px rgba(0, 0, 0, 0.15);\n",
              "      filter: drop-shadow(0px 1px 2px rgba(0, 0, 0, 0.3));\n",
              "      fill: #FFFFFF;\n",
              "    }\n",
              "  </style>\n",
              "\n",
              "    <script>\n",
              "      const buttonEl =\n",
              "        document.querySelector('#df-914cb349-cdf7-45ab-b2e6-43a9e89409fb button.colab-df-convert');\n",
              "      buttonEl.style.display =\n",
              "        google.colab.kernel.accessAllowed ? 'block' : 'none';\n",
              "\n",
              "      async function convertToInteractive(key) {\n",
              "        const element = document.querySelector('#df-914cb349-cdf7-45ab-b2e6-43a9e89409fb');\n",
              "        const dataTable =\n",
              "          await google.colab.kernel.invokeFunction('convertToInteractive',\n",
              "                                                    [key], {});\n",
              "        if (!dataTable) return;\n",
              "\n",
              "        const docLinkHtml = 'Like what you see? Visit the ' +\n",
              "          '<a target=\"_blank\" href=https://colab.research.google.com/notebooks/data_table.ipynb>data table notebook</a>'\n",
              "          + ' to learn more about interactive tables.';\n",
              "        element.innerHTML = '';\n",
              "        dataTable['output_type'] = 'display_data';\n",
              "        await google.colab.output.renderOutput(dataTable, element);\n",
              "        const docLink = document.createElement('div');\n",
              "        docLink.innerHTML = docLinkHtml;\n",
              "        element.appendChild(docLink);\n",
              "      }\n",
              "    </script>\n",
              "  </div>\n",
              "\n",
              "\n",
              "<div id=\"df-7c65a564-2c09-4cd0-9d4e-843a266c3cef\">\n",
              "  <button class=\"colab-df-quickchart\" onclick=\"quickchart('df-7c65a564-2c09-4cd0-9d4e-843a266c3cef')\"\n",
              "            title=\"Suggest charts.\"\n",
              "            style=\"display:none;\">\n",
              "\n",
              "<svg xmlns=\"http://www.w3.org/2000/svg\" height=\"24px\"viewBox=\"0 0 24 24\"\n",
              "     width=\"24px\">\n",
              "    <g>\n",
              "        <path d=\"M19 3H5c-1.1 0-2 .9-2 2v14c0 1.1.9 2 2 2h14c1.1 0 2-.9 2-2V5c0-1.1-.9-2-2-2zM9 17H7v-7h2v7zm4 0h-2V7h2v10zm4 0h-2v-4h2v4z\"/>\n",
              "    </g>\n",
              "</svg>\n",
              "  </button>\n",
              "\n",
              "<style>\n",
              "  .colab-df-quickchart {\n",
              "      --bg-color: #E8F0FE;\n",
              "      --fill-color: #1967D2;\n",
              "      --hover-bg-color: #E2EBFA;\n",
              "      --hover-fill-color: #174EA6;\n",
              "      --disabled-fill-color: #AAA;\n",
              "      --disabled-bg-color: #DDD;\n",
              "  }\n",
              "\n",
              "  [theme=dark] .colab-df-quickchart {\n",
              "      --bg-color: #3B4455;\n",
              "      --fill-color: #D2E3FC;\n",
              "      --hover-bg-color: #434B5C;\n",
              "      --hover-fill-color: #FFFFFF;\n",
              "      --disabled-bg-color: #3B4455;\n",
              "      --disabled-fill-color: #666;\n",
              "  }\n",
              "\n",
              "  .colab-df-quickchart {\n",
              "    background-color: var(--bg-color);\n",
              "    border: none;\n",
              "    border-radius: 50%;\n",
              "    cursor: pointer;\n",
              "    display: none;\n",
              "    fill: var(--fill-color);\n",
              "    height: 32px;\n",
              "    padding: 0;\n",
              "    width: 32px;\n",
              "  }\n",
              "\n",
              "  .colab-df-quickchart:hover {\n",
              "    background-color: var(--hover-bg-color);\n",
              "    box-shadow: 0 1px 2px rgba(60, 64, 67, 0.3), 0 1px 3px 1px rgba(60, 64, 67, 0.15);\n",
              "    fill: var(--button-hover-fill-color);\n",
              "  }\n",
              "\n",
              "  .colab-df-quickchart-complete:disabled,\n",
              "  .colab-df-quickchart-complete:disabled:hover {\n",
              "    background-color: var(--disabled-bg-color);\n",
              "    fill: var(--disabled-fill-color);\n",
              "    box-shadow: none;\n",
              "  }\n",
              "\n",
              "  .colab-df-spinner {\n",
              "    border: 2px solid var(--fill-color);\n",
              "    border-color: transparent;\n",
              "    border-bottom-color: var(--fill-color);\n",
              "    animation:\n",
              "      spin 1s steps(1) infinite;\n",
              "  }\n",
              "\n",
              "  @keyframes spin {\n",
              "    0% {\n",
              "      border-color: transparent;\n",
              "      border-bottom-color: var(--fill-color);\n",
              "      border-left-color: var(--fill-color);\n",
              "    }\n",
              "    20% {\n",
              "      border-color: transparent;\n",
              "      border-left-color: var(--fill-color);\n",
              "      border-top-color: var(--fill-color);\n",
              "    }\n",
              "    30% {\n",
              "      border-color: transparent;\n",
              "      border-left-color: var(--fill-color);\n",
              "      border-top-color: var(--fill-color);\n",
              "      border-right-color: var(--fill-color);\n",
              "    }\n",
              "    40% {\n",
              "      border-color: transparent;\n",
              "      border-right-color: var(--fill-color);\n",
              "      border-top-color: var(--fill-color);\n",
              "    }\n",
              "    60% {\n",
              "      border-color: transparent;\n",
              "      border-right-color: var(--fill-color);\n",
              "    }\n",
              "    80% {\n",
              "      border-color: transparent;\n",
              "      border-right-color: var(--fill-color);\n",
              "      border-bottom-color: var(--fill-color);\n",
              "    }\n",
              "    90% {\n",
              "      border-color: transparent;\n",
              "      border-bottom-color: var(--fill-color);\n",
              "    }\n",
              "  }\n",
              "</style>\n",
              "\n",
              "  <script>\n",
              "    async function quickchart(key) {\n",
              "      const quickchartButtonEl =\n",
              "        document.querySelector('#' + key + ' button');\n",
              "      quickchartButtonEl.disabled = true;  // To prevent multiple clicks.\n",
              "      quickchartButtonEl.classList.add('colab-df-spinner');\n",
              "      try {\n",
              "        const charts = await google.colab.kernel.invokeFunction(\n",
              "            'suggestCharts', [key], {});\n",
              "      } catch (error) {\n",
              "        console.error('Error during call to suggestCharts:', error);\n",
              "      }\n",
              "      quickchartButtonEl.classList.remove('colab-df-spinner');\n",
              "      quickchartButtonEl.classList.add('colab-df-quickchart-complete');\n",
              "    }\n",
              "    (() => {\n",
              "      let quickchartButtonEl =\n",
              "        document.querySelector('#df-7c65a564-2c09-4cd0-9d4e-843a266c3cef button');\n",
              "      quickchartButtonEl.style.display =\n",
              "        google.colab.kernel.accessAllowed ? 'block' : 'none';\n",
              "    })();\n",
              "  </script>\n",
              "</div>\n",
              "    </div>\n",
              "  </div>\n"
            ]
          },
          "metadata": {},
          "execution_count": 27
        }
      ],
      "source": [
        "df = pd.read_csv(\"winequality-red.csv\")\n",
        "df.head()"
      ]
    },
    {
      "cell_type": "code",
      "source": [
        "print(df.describe())"
      ],
      "metadata": {
        "colab": {
          "base_uri": "https://localhost:8080/"
        },
        "id": "YmuUJUfyiyqW",
        "outputId": "35fa86fa-788f-4698-f65f-e34be13ac5b9"
      },
      "execution_count": 14,
      "outputs": [
        {
          "output_type": "stream",
          "name": "stdout",
          "text": [
            "       fixed acidity  volatile acidity  citric acid  residual sugar  \\\n",
            "count    1599.000000       1599.000000  1599.000000     1599.000000   \n",
            "mean        8.319637          0.527821     0.270976        2.538806   \n",
            "std         1.741096          0.179060     0.194801        1.409928   \n",
            "min         4.600000          0.120000     0.000000        0.900000   \n",
            "25%         7.100000          0.390000     0.090000        1.900000   \n",
            "50%         7.900000          0.520000     0.260000        2.200000   \n",
            "75%         9.200000          0.640000     0.420000        2.600000   \n",
            "max        15.900000          1.580000     1.000000       15.500000   \n",
            "\n",
            "         chlorides  free sulfur dioxide  total sulfur dioxide      density  \\\n",
            "count  1599.000000          1599.000000           1599.000000  1599.000000   \n",
            "mean      0.087467            15.874922             46.467792     0.996747   \n",
            "std       0.047065            10.460157             32.895324     0.001887   \n",
            "min       0.012000             1.000000              6.000000     0.990070   \n",
            "25%       0.070000             7.000000             22.000000     0.995600   \n",
            "50%       0.079000            14.000000             38.000000     0.996750   \n",
            "75%       0.090000            21.000000             62.000000     0.997835   \n",
            "max       0.611000            72.000000            289.000000     1.003690   \n",
            "\n",
            "                pH    sulphates      alcohol      quality  \n",
            "count  1599.000000  1599.000000  1599.000000  1599.000000  \n",
            "mean      3.311113     0.658149    10.422983     5.636023  \n",
            "std       0.154386     0.169507     1.065668     0.807569  \n",
            "min       2.740000     0.330000     8.400000     3.000000  \n",
            "25%       3.210000     0.550000     9.500000     5.000000  \n",
            "50%       3.310000     0.620000    10.200000     6.000000  \n",
            "75%       3.400000     0.730000    11.100000     6.000000  \n",
            "max       4.010000     2.000000    14.900000     8.000000  \n"
          ]
        }
      ]
    },
    {
      "cell_type": "markdown",
      "metadata": {
        "id": "VuSDq6UlebSk"
      },
      "source": [
        "Будем решать задачу регрессии: необходимо предсказать качество вина на основе его характеристик\n",
        "\n",
        "### Шаг 1.  (**0.2 балла**)\n",
        "Создайте матрицу X объект-признак и целевой вектор y (\"quality\")"
      ]
    },
    {
      "cell_type": "code",
      "execution_count": 28,
      "metadata": {
        "colab": {
          "base_uri": "https://localhost:8080/"
        },
        "id": "h5KktLuwebSk",
        "outputId": "fd604b90-d03b-4bf5-b94b-43b295639584"
      },
      "outputs": [
        {
          "output_type": "execute_result",
          "data": {
            "text/plain": [
              "((1599, 11), (1599,))"
            ]
          },
          "metadata": {},
          "execution_count": 28
        }
      ],
      "source": [
        "#your code here\n",
        "y = df['quality']\n",
        "X = df.drop('quality', axis=1)\n",
        "X.shape, y.shape"
      ]
    },
    {
      "cell_type": "markdown",
      "metadata": {
        "id": "4YgH_UOiebSk"
      },
      "source": [
        "### Шаг 2. (**0.2 балла**)\n",
        "Разбейте данные на train и test (доля тестовых данных - 30%)."
      ]
    },
    {
      "cell_type": "code",
      "execution_count": 29,
      "metadata": {
        "id": "U0UsXKiQebSk"
      },
      "outputs": [],
      "source": [
        "#your code here\n",
        "X_train, X_test, y_train, y_test = train_test_split(X, y, train_size=0.3, random_state=1337)"
      ]
    },
    {
      "cell_type": "markdown",
      "metadata": {
        "id": "7iVk0RTaebSl"
      },
      "source": [
        "### Шаг 3. (**0.2 балла**)\n",
        "Обучите линейную регрессию на тренировочных данных и сделайте предсказания на train и на test."
      ]
    },
    {
      "cell_type": "code",
      "execution_count": 31,
      "metadata": {
        "id": "ujvPN0eJebSl"
      },
      "outputs": [],
      "source": [
        "#your code here\n",
        "lin_reg = LinearRegression()\n",
        "lin_reg.fit(X_train, y_train)\n",
        "pred_train = lin_reg.predict(X_train)\n",
        "pred_test = lin_reg.predict(X_test)\n",
        "# print(f'Предсказания на трейне', pred_train)\n",
        "# print(f'Предсказания на тесте', pred_test)\n"
      ]
    },
    {
      "cell_type": "code",
      "source": [
        "lin_reg.coef_"
      ],
      "metadata": {
        "colab": {
          "base_uri": "https://localhost:8080/"
        },
        "id": "pj5mj7LLjSlf",
        "outputId": "b0cda291-c7da-4d39-85b7-3c1618d15c15"
      },
      "execution_count": 32,
      "outputs": [
        {
          "output_type": "execute_result",
          "data": {
            "text/plain": [
              "array([ 8.50202290e-02, -1.18506388e+00, -2.88512149e-01,  2.04447594e-02,\n",
              "       -1.09083767e+00,  1.73070748e-03, -2.18652050e-03, -4.83960256e+01,\n",
              "       -1.27470642e-01,  7.67660621e-01,  2.43417610e-01])"
            ]
          },
          "metadata": {},
          "execution_count": 32
        }
      ]
    },
    {
      "cell_type": "markdown",
      "metadata": {
        "id": "9I-R6DJBebSl"
      },
      "source": [
        "### Шаг 4. (**0.4 балла**)\n",
        "Выведите на экран ошибку MSE на train и на test, затем выведите на экран ошибку r2 на train и test.  "
      ]
    },
    {
      "cell_type": "code",
      "execution_count": 33,
      "metadata": {
        "colab": {
          "base_uri": "https://localhost:8080/"
        },
        "id": "us0uOCYFebSl",
        "outputId": "6449d6d0-4bea-421b-bc7e-25b0445b897f"
      },
      "outputs": [
        {
          "output_type": "stream",
          "name": "stdout",
          "text": [
            "mse на трейне 0.4301205007984489\n",
            "mse на тесте 0.4167836393917615\n",
            "R2 на трейне 0.3293240874798029\n",
            "R2 на тесте 0.3640080126452774\n"
          ]
        }
      ],
      "source": [
        "#your code here\n",
        "mse_train = mean_squared_error(y_train, pred_train)\n",
        "mse_test = mean_squared_error(y_test, pred_test)\n",
        "r2_train = r2_score(y_train, pred_train)\n",
        "r2_test = r2_score(y_test, pred_test)\n",
        "print(f'mse на трейне', mse_train)\n",
        "print(f'mse на тесте', mse_test)\n",
        "print(f'R2 на трейне', r2_train)\n",
        "print(f'R2 на тесте', r2_test)\n",
        "# метрики получаются очень низкими"
      ]
    },
    {
      "cell_type": "markdown",
      "metadata": {
        "id": "OzRQBHVWebSl"
      },
      "source": [
        "### Шаг 5. (**0.5 балла**)\n",
        "Вычислите среднее качество (r2) модели на кросс-валидации с k=5 фолдами."
      ]
    },
    {
      "cell_type": "code",
      "execution_count": 34,
      "metadata": {
        "colab": {
          "base_uri": "https://localhost:8080/"
        },
        "id": "fWlYDJ2QebSl",
        "outputId": "4072867f-594a-4e09-eadf-90c5f89420ae"
      },
      "outputs": [
        {
          "output_type": "stream",
          "name": "stdout",
          "text": [
            "Среднее качество модели 0.29004162884219686\n"
          ]
        }
      ],
      "source": [
        "#your code here\n",
        "r2_mean = np.mean(cross_val_score(lin_reg, X, y, scoring='r2', cv=5))\n",
        "print(f'Среднее качество модели', r2_mean)"
      ]
    },
    {
      "cell_type": "markdown",
      "metadata": {
        "id": "W6xlASsBebSl"
      },
      "source": [
        "### Шаг 6.  (**0.5 балла**)\n",
        "Теперь примените линейную регрессию с L1-регуляризацией (Lasso) для данной задачи. Объявите модель и подберите параметр регуляризации alpha по сетке. Ищите alpha в диапазоне (0.1, 1.1) с шагом 0.1.\n",
        "\n",
        "Осуществите подбор параметра alpha по тренировочным данным (Xtrain, ytrain)."
      ]
    },
    {
      "cell_type": "code",
      "execution_count": 40,
      "metadata": {
        "colab": {
          "base_uri": "https://localhost:8080/"
        },
        "id": "x5sOno3SebSl",
        "outputId": "5bd1d244-b09f-48b4-e3dc-1a2e1c16f962"
      },
      "outputs": [
        {
          "output_type": "stream",
          "name": "stdout",
          "text": [
            "best score: 0.18529989437792668\n",
            "best params: {'alpha': 0.1}\n",
            "CPU times: user 584 ms, sys: 697 µs, total: 584 ms\n",
            "Wall time: 755 ms\n"
          ]
        }
      ],
      "source": [
        "%%time\n",
        "from sklearn.linear_model import Lasso\n",
        "alphas = {'alpha': np.arange(0.1,1.2,0.1)}\n",
        "lasso = Lasso()\n",
        "grid = GridSearchCV(lasso, param_grid=alphas, scoring='r2', cv=5, return_train_score=True)\n",
        "grid.fit(X_train, y_train)\n",
        "print('best score:', grid.best_score_)\n",
        "print('best params:', grid.best_params_)\n",
        "#your code here"
      ]
    },
    {
      "cell_type": "markdown",
      "metadata": {
        "id": "KDx1CUzPebSl"
      },
      "source": [
        "### Шаг 7.  (**0.5 балла**)\n",
        "Выведите наилучший алгоритм и наилучшее качество по результатам подбора alpha (best_estimator_ и best_score_)."
      ]
    },
    {
      "cell_type": "code",
      "execution_count": 41,
      "metadata": {
        "colab": {
          "base_uri": "https://localhost:8080/"
        },
        "id": "pDa3e4EcebSl",
        "outputId": "b9e9c47c-d4b4-4df1-863e-d959c4872c9c"
      },
      "outputs": [
        {
          "output_type": "stream",
          "name": "stdout",
          "text": [
            "Лучший estimator: Lasso(alpha=0.1)\n",
            "Лучший score на тренировочных данных: 0.18529989437792668\n"
          ]
        }
      ],
      "source": [
        "lr_lasso = Lasso(alpha=0.1).fit(X_train, y_train)\n",
        "best_estimator = grid.best_estimator_\n",
        "best_score = grid.best_score_\n",
        "\n",
        "print(f\"Лучший estimator: {best_estimator}\")\n",
        "print(f\"Лучший score на тренировочных данных: {best_score}\")"
      ]
    },
    {
      "cell_type": "markdown",
      "metadata": {
        "id": "Rmby_4YxebSl"
      },
      "source": [
        "### Шаг 8.  (**0.5 балла**)\n",
        "\n",
        "С помощью найденного best_estimator_ сделайте предсказание на тестовых данных и выведите на экран r2-score на тесте."
      ]
    },
    {
      "cell_type": "code",
      "execution_count": 42,
      "metadata": {
        "colab": {
          "base_uri": "https://localhost:8080/"
        },
        "id": "wp0-pdKTebSm",
        "outputId": "8235e2dc-38a6-4f13-c198-3b5eb8f9d28a"
      },
      "outputs": [
        {
          "output_type": "stream",
          "name": "stdout",
          "text": [
            "r2 для теста 0.24041587145749266\n"
          ]
        }
      ],
      "source": [
        "#your code here\n",
        "pred_lasso = best_estimator.predict(X_test)\n",
        "r2_lasso = r2_score(y_test, pred_lasso)\n",
        "print(f'r2 для теста', r2_lasso)"
      ]
    },
    {
      "cell_type": "markdown",
      "metadata": {
        "id": "AavI9uy-ebSm"
      },
      "source": [
        "### Шаг 9.  (**0.5 балла**)\n",
        "\n",
        "Попробуем улучшить качество модели за счет добавления полиномиальных признаков. Создайте pipeline, состоящий из добавления полиномиальных признаков степени 2, а затем применения линейной регрессии.\n",
        "\n",
        "Затем вычислите r2-score этой модели на кросс валидации с пятью фолдами."
      ]
    },
    {
      "cell_type": "code",
      "execution_count": 43,
      "metadata": {
        "colab": {
          "base_uri": "https://localhost:8080/"
        },
        "id": "uvhqMufLebSm",
        "outputId": "847ed0ec-25b5-4fa9-9fe8-2d45977c0ad0"
      },
      "outputs": [
        {
          "output_type": "execute_result",
          "data": {
            "text/plain": [
              "0.24057689125481424"
            ]
          },
          "metadata": {},
          "execution_count": 43
        }
      ],
      "source": [
        "from sklearn.preprocessing import StandardScaler\n",
        "\n",
        "lin_pipeline = Pipeline([('scaler', StandardScaler()), ('poly', PolynomialFeatures(degree=2)), ('linear', lr_lasso)])\n",
        "\n",
        "r2_pipe = np.mean(cross_val_score(lin_pipeline, X, y, scoring='r2', cv=5))\n",
        "r2_pipe\n",
        "#your code here"
      ]
    },
    {
      "cell_type": "markdown",
      "metadata": {
        "id": "CBfxJ1OOebSm"
      },
      "source": [
        "### Шаг 10.  (**0.5 балла**)\n",
        "Обучите модель (pipeline) на тренировочных данных и сделайте предсказания для train и test, затем выведите на экран r2-score и MSE на тренировочных и на тестовых данных."
      ]
    },
    {
      "cell_type": "code",
      "execution_count": 12,
      "metadata": {
        "colab": {
          "base_uri": "https://localhost:8080/"
        },
        "id": "Z2bvjewsebSm",
        "outputId": "02d29b19-0f36-4482-9be7-ee7cf9de9f1f"
      },
      "outputs": [
        {
          "output_type": "stream",
          "name": "stdout",
          "text": [
            "mse на трейне 0.46189739822677167\n",
            "mse на тесте 0.46539063663508384\n",
            "R2 на трейне 0.27977518283508396\n",
            "R2 на тесте 0.2898360494145701\n"
          ]
        }
      ],
      "source": [
        "#your code here\n",
        "lin_pipeline.fit(X_train, y_train)\n",
        "\n",
        "pipe_pred_train = lin_pipeline.predict(X_train)\n",
        "pipe_pred_test = lin_pipeline.predict(X_test)\n",
        "\n",
        "mse_train_pipe = mean_squared_error(y_train, pipe_pred_train)\n",
        "mse_test_pipe = mean_squared_error(y_test, pipe_pred_test)\n",
        "r2_train_pipe = r2_score(y_train, pipe_pred_train)\n",
        "r2_test_pipe = r2_score(y_test, pipe_pred_test)\n",
        "print(f'mse на трейне', mse_train_pipe)\n",
        "print(f'mse на тесте', mse_test_pipe)\n",
        "print(f'R2 на трейне', r2_train_pipe)\n",
        "print(f'R2 на тесте', r2_test_pipe)"
      ]
    },
    {
      "cell_type": "markdown",
      "metadata": {
        "id": "HhjEV2RZebSm"
      },
      "source": [
        "### Сделайте выводы. Для этого ответьте на вопросы: (**1 балл**)\n",
        "\n",
        "1) Хорошее ли качество показала исходная модель (линейная регрессия без регуляризации)? Является ли эта модель переобученной?\n",
        "\n",
        "2) Помогла ли L1-регуляризация улучшить качество модели?\n",
        "\n",
        "3) Помогло ли добавление полиномов второй степени улучшить качество модели? Как добавление новых признаков повлияло на переобучение?"
      ]
    },
    {
      "cell_type": "markdown",
      "source": [
        "1) Качество у модели довольно среднее, мсе=0.41 не самый плохой результат на наших данных, однако r^2=0.36 плохой результат, так как всего 36% дисперсии объясняются моделью\n",
        "Модель получается не переобученной, так как разница метрик на тесте и на трейне очень мала и коэффициенты близки к 0\n",
        "\n",
        "2) Так как модель не была переобучена, то добавление лассо не внесла сильных изменений в положительную сторону, а наоборот сделала модель хуже, r2=0.24 - оцень низко\n",
        "\n",
        "3) Качество выросло относительно модели лассо, r2 стал 0.28. Добавление полинома тоже ГЛОБАЛЬНО не влияет, но результат вырос, это приятно"
      ],
      "metadata": {
        "id": "A08QmtuZt4xB"
      }
    },
    {
      "cell_type": "markdown",
      "metadata": {
        "id": "AhSksZbGebSm"
      },
      "source": [
        "### *Попытайтесь улучшить модель (добейтесь наилучшего качества) - можно использовать любые методы."
      ]
    },
    {
      "cell_type": "markdown",
      "metadata": {
        "id": "Hh2dPb4AebSm"
      },
      "source": [
        "При улучшении качества r2 на 0.1-0.2 +1 балл, при большем улучшении +2 балла (дополнительно к 5 баллам за основную часть)."
      ]
    },
    {
      "cell_type": "code",
      "execution_count": 44,
      "metadata": {
        "id": "PBciR8BkebSm"
      },
      "outputs": [],
      "source": [
        "#your code here\n",
        "ss = StandardScaler()\n",
        "ss.fit(X_train)\n",
        "X_train_ss = ss.transform(X_train)\n",
        "X_test_ss = ss.transform(X_test)"
      ]
    },
    {
      "cell_type": "code",
      "source": [
        "lin_ss = Lasso()\n",
        "lin_ss.fit(X_train_ss, y_train)\n",
        "params = {'alpha': np.arange(1e-14, 1.3, 0.01)}\n",
        "grid_ss = GridSearchCV(lin_ss, param_grid=params, cv=5)\n",
        "grid_ss.fit(X_train_ss, y_train)\n",
        "print('best score:', grid_ss.best_score_)\n",
        "print('best params:', grid_ss.best_params_)"
      ],
      "metadata": {
        "colab": {
          "base_uri": "https://localhost:8080/"
        },
        "id": "_UQp6OYZzR4u",
        "outputId": "a9dde37b-2b9a-4e86-b848-3c4338c4ca7e"
      },
      "execution_count": 46,
      "outputs": [
        {
          "output_type": "stream",
          "name": "stdout",
          "text": [
            "best score: 0.28586692284759324\n",
            "best params: {'alpha': 0.030000000000009998}\n"
          ]
        }
      ]
    },
    {
      "cell_type": "code",
      "source": [
        "lin_ss = Lasso(alpha=1e-14)\n",
        "lin_ss.fit(X_train_ss, y_train)\n",
        "pred = lin_ss.predict(X_test_ss)\n",
        "r2ss = r2_score(y_test, pred)\n",
        "r2ss"
      ],
      "metadata": {
        "colab": {
          "base_uri": "https://localhost:8080/"
        },
        "id": "SGcC-OYCw9m3",
        "outputId": "a543e2a5-13b0-4c36-fc4a-36d4f18474f2"
      },
      "execution_count": 48,
      "outputs": [
        {
          "output_type": "execute_result",
          "data": {
            "text/plain": [
              "0.3640080126452755"
            ]
          },
          "metadata": {},
          "execution_count": 48
        }
      ]
    },
    {
      "cell_type": "markdown",
      "source": [
        "в данном случае я сделал масштбирование данных, так как у нас данные очень разношёрстные, то важно было натрейнить скейлер, чтобы он подогнался под наши данные\n",
        "так же у Лассо нет особо гиперпараметров, которые можно подобрать, поэтому тут только можно \"играться\" с данными и альфой"
      ],
      "metadata": {
        "id": "w6V7-E0iwJpX"
      }
    },
    {
      "cell_type": "markdown",
      "metadata": {
        "id": "Os6HXRnxebSm"
      },
      "source": [
        "## Часть 2. Target encoding (**всего 5 баллов**)"
      ]
    },
    {
      "cell_type": "markdown",
      "metadata": {
        "id": "soJzzGNRebSm"
      },
      "source": [
        "В этом части домашнего задания вы будете работать с выборкой `1C`. Вам нужно посчитать счетчики для `item_id` четырьмя способами:\n",
        "\n",
        "    1) При помощи KFold схемы;  \n",
        "    2) При помощи Leave-one-out схемы;\n",
        "    3) При помощи smoothing схемы;\n",
        "    4) При помощи expanding mean схемы."
      ]
    },
    {
      "cell_type": "markdown",
      "metadata": {
        "id": "pFlpeXgbebSm"
      },
      "source": [
        "### Подготовка данных"
      ]
    },
    {
      "cell_type": "code",
      "execution_count": 10,
      "metadata": {
        "colab": {
          "base_uri": "https://localhost:8080/",
          "height": 424
        },
        "id": "qUWH2SugebSm",
        "outputId": "d81eacdf-cfd5-46be-d991-40b39b7aaf87"
      },
      "outputs": [
        {
          "output_type": "execute_result",
          "data": {
            "text/plain": [
              "               date  date_block_num  shop_id  item_id  item_price  target\n",
              "0        02.01.2013               0       59    22154      999.00     1.0\n",
              "1        03.01.2013               0       25     2552      899.00     1.0\n",
              "2        05.01.2013               0       25     2552      899.00    -1.0\n",
              "3        06.01.2013               0       25     2554     1709.05     1.0\n",
              "4        15.01.2013               0       25     2555     1099.00     1.0\n",
              "...             ...             ...      ...      ...         ...     ...\n",
              "2935844  10.10.2015              33       25     7409      299.00     1.0\n",
              "2935845  09.10.2015              33       25     7460      299.00     1.0\n",
              "2935846  14.10.2015              33       25     7459      349.00     1.0\n",
              "2935847  22.10.2015              33       25     7440      299.00     1.0\n",
              "2935848  03.10.2015              33       25     7460      299.00     1.0\n",
              "\n",
              "[2935849 rows x 6 columns]"
            ],
            "text/html": [
              "\n",
              "  <div id=\"df-5bc9236e-4644-4abf-a776-92c4c3ca6b22\" class=\"colab-df-container\">\n",
              "    <div>\n",
              "<style scoped>\n",
              "    .dataframe tbody tr th:only-of-type {\n",
              "        vertical-align: middle;\n",
              "    }\n",
              "\n",
              "    .dataframe tbody tr th {\n",
              "        vertical-align: top;\n",
              "    }\n",
              "\n",
              "    .dataframe thead th {\n",
              "        text-align: right;\n",
              "    }\n",
              "</style>\n",
              "<table border=\"1\" class=\"dataframe\">\n",
              "  <thead>\n",
              "    <tr style=\"text-align: right;\">\n",
              "      <th></th>\n",
              "      <th>date</th>\n",
              "      <th>date_block_num</th>\n",
              "      <th>shop_id</th>\n",
              "      <th>item_id</th>\n",
              "      <th>item_price</th>\n",
              "      <th>target</th>\n",
              "    </tr>\n",
              "  </thead>\n",
              "  <tbody>\n",
              "    <tr>\n",
              "      <th>0</th>\n",
              "      <td>02.01.2013</td>\n",
              "      <td>0</td>\n",
              "      <td>59</td>\n",
              "      <td>22154</td>\n",
              "      <td>999.00</td>\n",
              "      <td>1.0</td>\n",
              "    </tr>\n",
              "    <tr>\n",
              "      <th>1</th>\n",
              "      <td>03.01.2013</td>\n",
              "      <td>0</td>\n",
              "      <td>25</td>\n",
              "      <td>2552</td>\n",
              "      <td>899.00</td>\n",
              "      <td>1.0</td>\n",
              "    </tr>\n",
              "    <tr>\n",
              "      <th>2</th>\n",
              "      <td>05.01.2013</td>\n",
              "      <td>0</td>\n",
              "      <td>25</td>\n",
              "      <td>2552</td>\n",
              "      <td>899.00</td>\n",
              "      <td>-1.0</td>\n",
              "    </tr>\n",
              "    <tr>\n",
              "      <th>3</th>\n",
              "      <td>06.01.2013</td>\n",
              "      <td>0</td>\n",
              "      <td>25</td>\n",
              "      <td>2554</td>\n",
              "      <td>1709.05</td>\n",
              "      <td>1.0</td>\n",
              "    </tr>\n",
              "    <tr>\n",
              "      <th>4</th>\n",
              "      <td>15.01.2013</td>\n",
              "      <td>0</td>\n",
              "      <td>25</td>\n",
              "      <td>2555</td>\n",
              "      <td>1099.00</td>\n",
              "      <td>1.0</td>\n",
              "    </tr>\n",
              "    <tr>\n",
              "      <th>...</th>\n",
              "      <td>...</td>\n",
              "      <td>...</td>\n",
              "      <td>...</td>\n",
              "      <td>...</td>\n",
              "      <td>...</td>\n",
              "      <td>...</td>\n",
              "    </tr>\n",
              "    <tr>\n",
              "      <th>2935844</th>\n",
              "      <td>10.10.2015</td>\n",
              "      <td>33</td>\n",
              "      <td>25</td>\n",
              "      <td>7409</td>\n",
              "      <td>299.00</td>\n",
              "      <td>1.0</td>\n",
              "    </tr>\n",
              "    <tr>\n",
              "      <th>2935845</th>\n",
              "      <td>09.10.2015</td>\n",
              "      <td>33</td>\n",
              "      <td>25</td>\n",
              "      <td>7460</td>\n",
              "      <td>299.00</td>\n",
              "      <td>1.0</td>\n",
              "    </tr>\n",
              "    <tr>\n",
              "      <th>2935846</th>\n",
              "      <td>14.10.2015</td>\n",
              "      <td>33</td>\n",
              "      <td>25</td>\n",
              "      <td>7459</td>\n",
              "      <td>349.00</td>\n",
              "      <td>1.0</td>\n",
              "    </tr>\n",
              "    <tr>\n",
              "      <th>2935847</th>\n",
              "      <td>22.10.2015</td>\n",
              "      <td>33</td>\n",
              "      <td>25</td>\n",
              "      <td>7440</td>\n",
              "      <td>299.00</td>\n",
              "      <td>1.0</td>\n",
              "    </tr>\n",
              "    <tr>\n",
              "      <th>2935848</th>\n",
              "      <td>03.10.2015</td>\n",
              "      <td>33</td>\n",
              "      <td>25</td>\n",
              "      <td>7460</td>\n",
              "      <td>299.00</td>\n",
              "      <td>1.0</td>\n",
              "    </tr>\n",
              "  </tbody>\n",
              "</table>\n",
              "<p>2935849 rows × 6 columns</p>\n",
              "</div>\n",
              "    <div class=\"colab-df-buttons\">\n",
              "\n",
              "  <div class=\"colab-df-container\">\n",
              "    <button class=\"colab-df-convert\" onclick=\"convertToInteractive('df-5bc9236e-4644-4abf-a776-92c4c3ca6b22')\"\n",
              "            title=\"Convert this dataframe to an interactive table.\"\n",
              "            style=\"display:none;\">\n",
              "\n",
              "  <svg xmlns=\"http://www.w3.org/2000/svg\" height=\"24px\" viewBox=\"0 -960 960 960\">\n",
              "    <path d=\"M120-120v-720h720v720H120Zm60-500h600v-160H180v160Zm220 220h160v-160H400v160Zm0 220h160v-160H400v160ZM180-400h160v-160H180v160Zm440 0h160v-160H620v160ZM180-180h160v-160H180v160Zm440 0h160v-160H620v160Z\"/>\n",
              "  </svg>\n",
              "    </button>\n",
              "\n",
              "  <style>\n",
              "    .colab-df-container {\n",
              "      display:flex;\n",
              "      gap: 12px;\n",
              "    }\n",
              "\n",
              "    .colab-df-convert {\n",
              "      background-color: #E8F0FE;\n",
              "      border: none;\n",
              "      border-radius: 50%;\n",
              "      cursor: pointer;\n",
              "      display: none;\n",
              "      fill: #1967D2;\n",
              "      height: 32px;\n",
              "      padding: 0 0 0 0;\n",
              "      width: 32px;\n",
              "    }\n",
              "\n",
              "    .colab-df-convert:hover {\n",
              "      background-color: #E2EBFA;\n",
              "      box-shadow: 0px 1px 2px rgba(60, 64, 67, 0.3), 0px 1px 3px 1px rgba(60, 64, 67, 0.15);\n",
              "      fill: #174EA6;\n",
              "    }\n",
              "\n",
              "    .colab-df-buttons div {\n",
              "      margin-bottom: 4px;\n",
              "    }\n",
              "\n",
              "    [theme=dark] .colab-df-convert {\n",
              "      background-color: #3B4455;\n",
              "      fill: #D2E3FC;\n",
              "    }\n",
              "\n",
              "    [theme=dark] .colab-df-convert:hover {\n",
              "      background-color: #434B5C;\n",
              "      box-shadow: 0px 1px 3px 1px rgba(0, 0, 0, 0.15);\n",
              "      filter: drop-shadow(0px 1px 2px rgba(0, 0, 0, 0.3));\n",
              "      fill: #FFFFFF;\n",
              "    }\n",
              "  </style>\n",
              "\n",
              "    <script>\n",
              "      const buttonEl =\n",
              "        document.querySelector('#df-5bc9236e-4644-4abf-a776-92c4c3ca6b22 button.colab-df-convert');\n",
              "      buttonEl.style.display =\n",
              "        google.colab.kernel.accessAllowed ? 'block' : 'none';\n",
              "\n",
              "      async function convertToInteractive(key) {\n",
              "        const element = document.querySelector('#df-5bc9236e-4644-4abf-a776-92c4c3ca6b22');\n",
              "        const dataTable =\n",
              "          await google.colab.kernel.invokeFunction('convertToInteractive',\n",
              "                                                    [key], {});\n",
              "        if (!dataTable) return;\n",
              "\n",
              "        const docLinkHtml = 'Like what you see? Visit the ' +\n",
              "          '<a target=\"_blank\" href=https://colab.research.google.com/notebooks/data_table.ipynb>data table notebook</a>'\n",
              "          + ' to learn more about interactive tables.';\n",
              "        element.innerHTML = '';\n",
              "        dataTable['output_type'] = 'display_data';\n",
              "        await google.colab.output.renderOutput(dataTable, element);\n",
              "        const docLink = document.createElement('div');\n",
              "        docLink.innerHTML = docLinkHtml;\n",
              "        element.appendChild(docLink);\n",
              "      }\n",
              "    </script>\n",
              "  </div>\n",
              "\n",
              "\n",
              "<div id=\"df-4f4a58e0-d91e-4512-96d9-dd57f21210a5\">\n",
              "  <button class=\"colab-df-quickchart\" onclick=\"quickchart('df-4f4a58e0-d91e-4512-96d9-dd57f21210a5')\"\n",
              "            title=\"Suggest charts.\"\n",
              "            style=\"display:none;\">\n",
              "\n",
              "<svg xmlns=\"http://www.w3.org/2000/svg\" height=\"24px\"viewBox=\"0 0 24 24\"\n",
              "     width=\"24px\">\n",
              "    <g>\n",
              "        <path d=\"M19 3H5c-1.1 0-2 .9-2 2v14c0 1.1.9 2 2 2h14c1.1 0 2-.9 2-2V5c0-1.1-.9-2-2-2zM9 17H7v-7h2v7zm4 0h-2V7h2v10zm4 0h-2v-4h2v4z\"/>\n",
              "    </g>\n",
              "</svg>\n",
              "  </button>\n",
              "\n",
              "<style>\n",
              "  .colab-df-quickchart {\n",
              "      --bg-color: #E8F0FE;\n",
              "      --fill-color: #1967D2;\n",
              "      --hover-bg-color: #E2EBFA;\n",
              "      --hover-fill-color: #174EA6;\n",
              "      --disabled-fill-color: #AAA;\n",
              "      --disabled-bg-color: #DDD;\n",
              "  }\n",
              "\n",
              "  [theme=dark] .colab-df-quickchart {\n",
              "      --bg-color: #3B4455;\n",
              "      --fill-color: #D2E3FC;\n",
              "      --hover-bg-color: #434B5C;\n",
              "      --hover-fill-color: #FFFFFF;\n",
              "      --disabled-bg-color: #3B4455;\n",
              "      --disabled-fill-color: #666;\n",
              "  }\n",
              "\n",
              "  .colab-df-quickchart {\n",
              "    background-color: var(--bg-color);\n",
              "    border: none;\n",
              "    border-radius: 50%;\n",
              "    cursor: pointer;\n",
              "    display: none;\n",
              "    fill: var(--fill-color);\n",
              "    height: 32px;\n",
              "    padding: 0;\n",
              "    width: 32px;\n",
              "  }\n",
              "\n",
              "  .colab-df-quickchart:hover {\n",
              "    background-color: var(--hover-bg-color);\n",
              "    box-shadow: 0 1px 2px rgba(60, 64, 67, 0.3), 0 1px 3px 1px rgba(60, 64, 67, 0.15);\n",
              "    fill: var(--button-hover-fill-color);\n",
              "  }\n",
              "\n",
              "  .colab-df-quickchart-complete:disabled,\n",
              "  .colab-df-quickchart-complete:disabled:hover {\n",
              "    background-color: var(--disabled-bg-color);\n",
              "    fill: var(--disabled-fill-color);\n",
              "    box-shadow: none;\n",
              "  }\n",
              "\n",
              "  .colab-df-spinner {\n",
              "    border: 2px solid var(--fill-color);\n",
              "    border-color: transparent;\n",
              "    border-bottom-color: var(--fill-color);\n",
              "    animation:\n",
              "      spin 1s steps(1) infinite;\n",
              "  }\n",
              "\n",
              "  @keyframes spin {\n",
              "    0% {\n",
              "      border-color: transparent;\n",
              "      border-bottom-color: var(--fill-color);\n",
              "      border-left-color: var(--fill-color);\n",
              "    }\n",
              "    20% {\n",
              "      border-color: transparent;\n",
              "      border-left-color: var(--fill-color);\n",
              "      border-top-color: var(--fill-color);\n",
              "    }\n",
              "    30% {\n",
              "      border-color: transparent;\n",
              "      border-left-color: var(--fill-color);\n",
              "      border-top-color: var(--fill-color);\n",
              "      border-right-color: var(--fill-color);\n",
              "    }\n",
              "    40% {\n",
              "      border-color: transparent;\n",
              "      border-right-color: var(--fill-color);\n",
              "      border-top-color: var(--fill-color);\n",
              "    }\n",
              "    60% {\n",
              "      border-color: transparent;\n",
              "      border-right-color: var(--fill-color);\n",
              "    }\n",
              "    80% {\n",
              "      border-color: transparent;\n",
              "      border-right-color: var(--fill-color);\n",
              "      border-bottom-color: var(--fill-color);\n",
              "    }\n",
              "    90% {\n",
              "      border-color: transparent;\n",
              "      border-bottom-color: var(--fill-color);\n",
              "    }\n",
              "  }\n",
              "</style>\n",
              "\n",
              "  <script>\n",
              "    async function quickchart(key) {\n",
              "      const quickchartButtonEl =\n",
              "        document.querySelector('#' + key + ' button');\n",
              "      quickchartButtonEl.disabled = true;  // To prevent multiple clicks.\n",
              "      quickchartButtonEl.classList.add('colab-df-spinner');\n",
              "      try {\n",
              "        const charts = await google.colab.kernel.invokeFunction(\n",
              "            'suggestCharts', [key], {});\n",
              "      } catch (error) {\n",
              "        console.error('Error during call to suggestCharts:', error);\n",
              "      }\n",
              "      quickchartButtonEl.classList.remove('colab-df-spinner');\n",
              "      quickchartButtonEl.classList.add('colab-df-quickchart-complete');\n",
              "    }\n",
              "    (() => {\n",
              "      let quickchartButtonEl =\n",
              "        document.querySelector('#df-4f4a58e0-d91e-4512-96d9-dd57f21210a5 button');\n",
              "      quickchartButtonEl.style.display =\n",
              "        google.colab.kernel.accessAllowed ? 'block' : 'none';\n",
              "    })();\n",
              "  </script>\n",
              "</div>\n",
              "    </div>\n",
              "  </div>\n"
            ]
          },
          "metadata": {},
          "execution_count": 10
        }
      ],
      "source": [
        "sales = pd.read_csv('sales_train.csv.gz')\n",
        "sales.columns = ['date', 'date_block_num', 'shop_id', 'item_id', 'item_price', 'target']\n",
        "sales"
      ]
    },
    {
      "cell_type": "code",
      "execution_count": 11,
      "metadata": {
        "id": "RHfaBI_NebSm"
      },
      "outputs": [],
      "source": [
        "index_cols = ['shop_id', 'item_id', 'date_block_num']\n",
        "\n",
        "# For every month we create a grid from all shops/items combinations from that month\n",
        "grid = []\n",
        "for block_num in sales['date_block_num'].unique():\n",
        "    cur_shops = sales[sales['date_block_num']==block_num]['shop_id'].unique()\n",
        "    cur_items = sales[sales['date_block_num']==block_num]['item_id'].unique()\n",
        "    grid.append(np.array(list(product(*[cur_shops, cur_items, [block_num]])),dtype='int32'))\n",
        "\n",
        "#turn the grid into pandas dataframe\n",
        "grid = pd.DataFrame(np.vstack(grid), columns = index_cols,dtype=np.int32)\n",
        "\n",
        "#get aggregated values for (shop_id, item_id, month)\n",
        "gb = sales.groupby(index_cols,as_index=False).agg({'target':'sum'})\n",
        "\n",
        "#join aggregated data to the grid\n",
        "all_data = pd.merge(grid,gb,how='left',on=index_cols).fillna(0)\n",
        "#sort the data\n",
        "all_data.sort_values(['date_block_num','shop_id','item_id'],inplace=True)"
      ]
    },
    {
      "cell_type": "markdown",
      "metadata": {
        "id": "GpNnVhe5ebSn"
      },
      "source": [
        "### Mean encodings без регуляризации"
      ]
    },
    {
      "cell_type": "markdown",
      "metadata": {
        "id": "iuz-DMWfebSn"
      },
      "source": [
        "После проделанной технической работы, мы готовы посчитать счетчики для переменной `item_id`.\n",
        "\n",
        "Ниже приведены две реализации подсчета счетчиков без регуляризации. Можно использовать данный код в качестве стартовой точки для реализации различных техник регуляризации."
      ]
    },
    {
      "cell_type": "markdown",
      "metadata": {
        "id": "TXCzdrC3ebSn"
      },
      "source": [
        "#### Способ 1"
      ]
    },
    {
      "cell_type": "code",
      "execution_count": 12,
      "metadata": {
        "colab": {
          "base_uri": "https://localhost:8080/"
        },
        "id": "ix6vjVZAebSn",
        "outputId": "7b1a1f74-8a2a-465b-9193-7a90ed210614"
      },
      "outputs": [
        {
          "output_type": "stream",
          "name": "stdout",
          "text": [
            "0.4830386988621699\n"
          ]
        }
      ],
      "source": [
        "# Calculate a mapping: {item_id: target_mean}\n",
        "item_id_target_mean = all_data.groupby('item_id').target.mean()\n",
        "\n",
        "# In our non-regularized case we just *map* the computed means to the `item_id`'s\n",
        "all_data['item_target_enc'] = all_data['item_id'].map(item_id_target_mean)\n",
        "\n",
        "# Fill NaNs\n",
        "all_data['item_target_enc'].fillna(0.3343, inplace=True)\n",
        "\n",
        "# Print correlation\n",
        "encoded_feature = all_data['item_target_enc'].values\n",
        "print(np.corrcoef(all_data['target'].values, encoded_feature)[0][1])"
      ]
    },
    {
      "cell_type": "markdown",
      "metadata": {
        "id": "9fvICIBPebSo"
      },
      "source": [
        "#### Способ 2"
      ]
    },
    {
      "cell_type": "code",
      "execution_count": 13,
      "metadata": {
        "colab": {
          "base_uri": "https://localhost:8080/"
        },
        "id": "YaFLmL1zebSo",
        "outputId": "c64c93e6-d8c4-4e5a-9a93-fbb9637cda7a"
      },
      "outputs": [
        {
          "output_type": "stream",
          "name": "stdout",
          "text": [
            "0.4830386988621699\n"
          ]
        }
      ],
      "source": [
        "'''\n",
        "     Differently to `.target.mean()` function `transform`\n",
        "   will return a dataframe with an index like in `all_data`.\n",
        "   Basically this single line of code is equivalent to the first two lines from of Method 1.\n",
        "'''\n",
        "all_data['item_target_enc'] = all_data.groupby('item_id')['target'].transform('mean')\n",
        "\n",
        "# Fill NaNs\n",
        "all_data['item_target_enc'].fillna(0.3343, inplace=True)\n",
        "\n",
        "# Print correlation\n",
        "encoded_feature = all_data['item_target_enc'].values\n",
        "print(np.corrcoef(all_data['target'].values, encoded_feature)[0][1])"
      ]
    },
    {
      "cell_type": "markdown",
      "metadata": {
        "id": "3XaQ5ZrrebSo"
      },
      "source": [
        "###  KFold схема (**1.25 балла**)"
      ]
    },
    {
      "cell_type": "markdown",
      "metadata": {
        "id": "GK_4rJJdebSo"
      },
      "source": [
        "Необходимо реализовать Kfold схему с пятью фолдами. Используйте KFold(5) из sklearn.model_selection.\n",
        "\n",
        "1. Разбейте данные на 5 фолдов при помощи `sklearn.model_selection.KFold` с параметром `shuffle=False`.\n",
        "2. Проитерируйтесь по фолдам: используйте 4 обучающих фолда для подсчета средних значений таргета по `item_id` и заполните этими значениями валидационный фолд на каждой итерации.\n",
        "\n",
        "Обратите внимание на **Способ 1** из примера. В частности, изучите, как работают функции map и pd.Series.map. Они довольно полезны во многих ситуациях."
      ]
    },
    {
      "cell_type": "code",
      "source": [
        "import warnings\n",
        "\n",
        "warnings.filterwarnings('ignore')\n",
        "# в ячейке ниже вылезают предупреждения, что вношу изменения в нескопированный дф\n",
        "# пробовал поставить .copy(), но всё равно продолжает ругаться, обычно помогает"
      ],
      "metadata": {
        "id": "TFv8LLPsqIO6"
      },
      "execution_count": 18,
      "outputs": []
    },
    {
      "cell_type": "code",
      "execution_count": 26,
      "metadata": {
        "colab": {
          "base_uri": "https://localhost:8080/"
        },
        "id": "RNlF31y9ebSo",
        "outputId": "7352dc01-45b6-4723-d222-a321121b2593"
      },
      "outputs": [
        {
          "output_type": "stream",
          "name": "stdout",
          "text": [
            "0.4164590712798811\n"
          ]
        }
      ],
      "source": [
        "# YOUR CODE GOES HERE\n",
        "%%time\n",
        "from sklearn.model_selection import KFold\n",
        "kf=KFold(n_splits=5, shuffle=False)\n",
        "kf.get_n_splits(all_data)\n",
        "\n",
        "for train_index, test_index in kf.split(all_data):\n",
        "    train, test = all_data.iloc[train_index], all_data.iloc[test_index]\n",
        "    item_id_target_mean = train.groupby('item_id').target.mean().copy()\n",
        "    all_data['item_target_enc'].iloc[test_index] = test['item_id'].map(item_id_target_mean)\n",
        "all_data['item_target_enc'].fillna(0.3343, inplace=True)\n",
        "encoded_feature = all_data['item_target_enc'].values\n",
        "# You will need to compute correlation like that\n",
        "corr = np.corrcoef(all_data['target'].values, encoded_feature)[0][1]\n",
        "print(corr)"
      ]
    },
    {
      "cell_type": "markdown",
      "metadata": {
        "id": "e1QJFSt8ebSo"
      },
      "source": [
        "Ожидаемый ответ 0.4165"
      ]
    },
    {
      "cell_type": "markdown",
      "metadata": {
        "id": "wTR-qIUJebSo"
      },
      "source": [
        "### Leave-one-out схема (**1.25 балла**)"
      ]
    },
    {
      "cell_type": "markdown",
      "metadata": {
        "id": "Ahcw7VgzebSo"
      },
      "source": [
        "Необходимо реализовать leave-one-out схему . Учтите, если вы запустите код из первого задания, задав количество фолдов такое же как размер выборки, то вы, вероятно, получите правильный ответ, но ждать будете очень-очень долго.\n",
        "\n",
        "Для более быстрой реализации подсчета среднего таргета на всех объектах, кроме одного, вы можете:\n",
        "\n",
        "1. Вычислить суммарный таргет по всем объектам.\n",
        "2. Вычесть таргет конкретного объекта и разделить результат на `n_objects - 1`.\n",
        "\n",
        "Заметим, что пункт `1.` следует сделать для всех объектов. Также заметим, что пункт `2.` может быть реализован без циклов `for`.\n",
        "\n",
        "Здесь может оказаться полезной функция .transform из **Способа 2** из примера."
      ]
    },
    {
      "cell_type": "code",
      "execution_count": 21,
      "metadata": {
        "colab": {
          "base_uri": "https://localhost:8080/"
        },
        "id": "BX0mzzguebSo",
        "outputId": "1996d799-9b5a-43d3-c087-700dde9f1ce3"
      },
      "outputs": [
        {
          "output_type": "stream",
          "name": "stdout",
          "text": [
            "0.4803848311293002\n",
            "CPU times: user 16.6 s, sys: 850 ms, total: 17.5 s\n",
            "Wall time: 17.8 s\n"
          ]
        }
      ],
      "source": [
        "# YOUR CODE GOES HERE\n",
        "%%time\n",
        "encoded_feature = all_data.groupby('item_id')['target'].transform(lambda x: (x.sum() - x) / (x.count() - 1))\n",
        "encoded_feature = encoded_feature.values\n",
        "corr = np.corrcoef(all_data['target'].values, encoded_feature)[0][1]\n",
        "print(corr)\n",
        "# ну кстати ждать всё равно долго получается :/"
      ]
    },
    {
      "cell_type": "markdown",
      "metadata": {
        "id": "PXWwoygvebSo"
      },
      "source": [
        "Ожидаемый ответ 0.4803"
      ]
    },
    {
      "cell_type": "markdown",
      "metadata": {
        "id": "1JKb0oNkebSp"
      },
      "source": [
        "### Smoothing (**1.25 балла**)"
      ]
    },
    {
      "cell_type": "markdown",
      "metadata": {
        "id": "9zaGHl3EebSp"
      },
      "source": [
        "Необходимо реализовать smoothing с $\\alpha = 100$. Используйте формулу:\n",
        "\n",
        "$\\frac{mean(target) \\cdot nrows + globalmean \\cdot \\alpha }{nrows + \\alpha}$,\n",
        "\n",
        "где $globalmean=0.3343$. Заметим, что `nrows` - это количество объектов, принадлежащих конктертной категории, а не количество строк в датасете."
      ]
    },
    {
      "cell_type": "code",
      "execution_count": 25,
      "metadata": {
        "colab": {
          "base_uri": "https://localhost:8080/"
        },
        "id": "xqk8dEDhebSp",
        "outputId": "0c728d81-dc4f-462f-f4cf-8e044204c514"
      },
      "outputs": [
        {
          "output_type": "stream",
          "name": "stdout",
          "text": [
            "0.4818198797097264\n",
            "CPU times: user 823 ms, sys: 270 ms, total: 1.09 s\n",
            "Wall time: 1.16 s\n"
          ]
        }
      ],
      "source": [
        "# YOUR CODE GOES HERE\n",
        "%%time\n",
        "mean_target = all_data.groupby('item_id').target.mean()\n",
        "nrows = all_data.groupby('item_id').size()\n",
        "all_data['item_target_enc'] = all_data['item_id'].map((mean_target * nrows + 0.3343 * 100) / (nrows + 100))\n",
        "encoded_feature = all_data['item_target_enc'].values\n",
        "\n",
        "corr = np.corrcoef(all_data['target'].values, encoded_feature)[0][1]\n",
        "print(corr)"
      ]
    },
    {
      "cell_type": "markdown",
      "metadata": {
        "id": "LdAhpEo_ebSp"
      },
      "source": [
        "Ожидаемый ответ 0.4818"
      ]
    },
    {
      "cell_type": "markdown",
      "metadata": {
        "id": "utvcmVykebSp"
      },
      "source": [
        "### Expanding mean схема (**1.25 балла**)"
      ]
    },
    {
      "cell_type": "markdown",
      "metadata": {
        "id": "a5QvT_ynebSp"
      },
      "source": [
        "Необходимо реализовать *expanding mean* схему. Ее суть заключается в том, чтобы пройти по отсортированному в определенном порядке датасету (датасет сортируется в самом начале задания) и для подсчета счетчика для строки $m$ использовать строки от $0$ до $m-1$. Вам будет необходимо воспользоваться pandas функциями [`cumsum`](https://pandas.pydata.org/pandas-docs/stable/generated/pandas.core.groupby.DataFrameGroupBy.cumsum.html) и [`cumcount`](https://pandas.pydata.org/pandas-docs/stable/generated/pandas.core.groupby.GroupBy.cumcount.html)."
      ]
    },
    {
      "cell_type": "code",
      "execution_count": 24,
      "metadata": {
        "colab": {
          "base_uri": "https://localhost:8080/"
        },
        "id": "Baq40rAtebSp",
        "outputId": "f90d57f8-8d9b-45ce-a812-b1b7be0c7e2d"
      },
      "outputs": [
        {
          "output_type": "stream",
          "name": "stdout",
          "text": [
            "0.5025245211081697\n",
            "CPU times: user 1.52 s, sys: 633 ms, total: 2.15 s\n",
            "Wall time: 2.1 s\n"
          ]
        }
      ],
      "source": [
        "# YOUR CODE GOES HERE\n",
        "%%time\n",
        "cumulative_sum = all_data.groupby('item_id').target.cumsum() - all_data.target\n",
        "cumulative_count = all_data.groupby('item_id').cumcount()\n",
        "all_data['item_target_enc'] = cumulative_sum / cumulative_count\n",
        "all_data['item_target_enc'].fillna(0.3343, inplace=True)\n",
        "encoded_feature = all_data['item_target_enc'].values\n",
        "corr = np.corrcoef(all_data['target'].values, encoded_feature)[0][1]\n",
        "print(corr)"
      ]
    },
    {
      "cell_type": "markdown",
      "metadata": {
        "id": "oLFADII-ebSp"
      },
      "source": [
        "Ожидаемый ответ 0.5025"
      ]
    }
  ],
  "metadata": {
    "kernelspec": {
      "display_name": "Python 3",
      "language": "python",
      "name": "python3"
    },
    "language_info": {
      "codemirror_mode": {
        "name": "ipython",
        "version": 3
      },
      "file_extension": ".py",
      "mimetype": "text/x-python",
      "name": "python",
      "nbconvert_exporter": "python",
      "pygments_lexer": "ipython3",
      "version": "3.7.6"
    },
    "colab": {
      "provenance": []
    }
  },
  "nbformat": 4,
  "nbformat_minor": 0
}